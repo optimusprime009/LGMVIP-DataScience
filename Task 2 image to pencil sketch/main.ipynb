{
 "cells": [
  {
   "cell_type": "markdown",
   "id": "cd0bb019-064c-4890-b027-d99717566e34",
   "metadata": {},
   "source": [
    "#### Importing the Required Moduel"
   ]
  },
  {
   "cell_type": "code",
   "execution_count": 2,
   "id": "c0c9ad4e-df67-444c-97c1-bdff0e5ec4ba",
   "metadata": {},
   "outputs": [
    {
     "name": "stderr",
     "output_type": "stream",
     "text": [
      "ERROR: Could not find a version that satisfies the requirement cv2 (from versions: none)\n",
      "ERROR: No matching distribution found for cv2\n"
     ]
    }
   ],
   "source": [
    "!pip install cv2"
   ]
  },
  {
   "cell_type": "code",
   "execution_count": 3,
   "id": "54993ee9-619a-40f7-9e04-ec32b3816b1b",
   "metadata": {},
   "outputs": [
    {
     "ename": "ModuleNotFoundError",
     "evalue": "No module named 'cv2'",
     "output_type": "error",
     "traceback": [
      "\u001b[1;31m---------------------------------------------------------------------------\u001b[0m",
      "\u001b[1;31mModuleNotFoundError\u001b[0m                       Traceback (most recent call last)",
      "Cell \u001b[1;32mIn[3], line 1\u001b[0m\n\u001b[1;32m----> 1\u001b[0m \u001b[38;5;28;01mimport\u001b[39;00m \u001b[38;5;21;01mcv2\u001b[39;00m \u001b[38;5;28;01mas\u001b[39;00m \u001b[38;5;21;01mcv\u001b[39;00m\n",
      "\u001b[1;31mModuleNotFoundError\u001b[0m: No module named 'cv2'"
     ]
    }
   ],
   "source": [
    "import cv2 as cv"
   ]
  },
  {
   "cell_type": "markdown",
   "id": "779e0b96-f801-46ad-855b-df8d89fc9e38",
   "metadata": {},
   "source": [
    "#### Reading the image"
   ]
  },
  {
   "cell_type": "code",
   "execution_count": null,
   "id": "60c25bb9-b504-4cca-8bd2-d726ef4bf4f5",
   "metadata": {},
   "outputs": [],
   "source": [
    "image = cv.imread(\"naruto.jpg\")"
   ]
  },
  {
   "cell_type": "markdown",
   "id": "67d54ad2-97c8-4ecf-83fb-57b914b334bd",
   "metadata": {},
   "source": [
    "#### Converting the Image into gray_image"
   ]
  },
  {
   "cell_type": "code",
   "execution_count": null,
   "id": "27aae7ec-e8be-4032-bbca-b3160313433d",
   "metadata": {},
   "outputs": [],
   "source": [
    "gray_image = cv.cvtColor(image, cv.COLOR_BGR2GRAY)"
   ]
  },
  {
   "cell_type": "markdown",
   "id": "c70c8532-76bc-476c-9b11-8de91e5011ca",
   "metadata": {},
   "source": [
    "#### Inverting the Image"
   ]
  },
  {
   "cell_type": "code",
   "execution_count": null,
   "id": "4fdc4cf1-0fab-4f21-870b-8cd3e0efaa9e",
   "metadata": {},
   "outputs": [],
   "source": [
    "invert_image = cv.bitwise_not(gray_image)"
   ]
  },
  {
   "cell_type": "markdown",
   "id": "64873148-a5ea-40f6-a8b6-115dbf0d3ee6",
   "metadata": {},
   "source": [
    "#### Blur Image"
   ]
  },
  {
   "cell_type": "code",
   "execution_count": null,
   "id": "f654c983-1c22-453e-a692-39b47d5f7731",
   "metadata": {},
   "outputs": [],
   "source": [
    "blur_image = cv.GaussianBlur(invert_image, (21,21), 0)"
   ]
  },
  {
   "cell_type": "markdown",
   "id": "f8291e75-4267-441b-bb8b-bcd85c2126be",
   "metadata": {},
   "source": [
    "#### Inverting the Blured Image"
   ]
  },
  {
   "cell_type": "code",
   "execution_count": null,
   "id": "13cf14ff-252f-4313-a130-9c705d395e7a",
   "metadata": {},
   "outputs": [],
   "source": [
    "invert_blur = cv.bitwise_not(blur_image)"
   ]
  },
  {
   "cell_type": "markdown",
   "id": "89e65a87-4886-4dee-9331-f4873a9d6101",
   "metadata": {},
   "source": [
    "#### Convert Image Into sketch"
   ]
  },
  {
   "cell_type": "code",
   "execution_count": null,
   "id": "4f01923c-09df-434f-b56c-57cde9d2ba02",
   "metadata": {},
   "outputs": [],
   "source": [
    "sketch = cv.divide(gray_image, invert_blur, scale=256.0)"
   ]
  },
  {
   "cell_type": "markdown",
   "id": "ba77ea2d-d251-42bb-a346-f6ce78e6fa91",
   "metadata": {},
   "source": [
    "#### Generating the Sketch Image Named as Sketch.png"
   ]
  },
  {
   "cell_type": "code",
   "execution_count": null,
   "id": "af06904e-2590-4fda-bbf6-e803f5a383e7",
   "metadata": {},
   "outputs": [],
   "source": [
    "cv.imwrite(\"Sketch.png\", invert_blur)"
   ]
  }
 ],
 "metadata": {
  "kernelspec": {
   "display_name": "Python 3 (ipykernel)",
   "language": "python",
   "name": "python3"
  },
  "language_info": {
   "codemirror_mode": {
    "name": "ipython",
    "version": 3
   },
   "file_extension": ".py",
   "mimetype": "text/x-python",
   "name": "python",
   "nbconvert_exporter": "python",
   "pygments_lexer": "ipython3",
   "version": "3.12.4"
  }
 },
 "nbformat": 4,
 "nbformat_minor": 5
}
